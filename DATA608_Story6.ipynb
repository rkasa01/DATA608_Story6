{
  "nbformat": 4,
  "nbformat_minor": 0,
  "metadata": {
    "colab": {
      "provenance": []
    },
    "kernelspec": {
      "name": "python3",
      "display_name": "Python 3"
    },
    "language_info": {
      "name": "python"
    }
  },
  "cells": [
    {
      "cell_type": "markdown",
      "source": [
        "# Story 6: What Is The State of Food Security and Nutrition in the US\n",
        "\n",
        "## Prompt:\n",
        "The United Nations Food and Agriculture Organization publication, The State of Food Security and Nutrition in the World 2022 (https://www.fao.org/documents/card/en/c/cc0639en) might lead one to the conclusion that it's an elsewhere problem. That the people who are suffering malnutrition and starvation are \"elsewhere\", not in our backyard. For this assignment you will need to take a closer look here at home (the US)\n",
        "\n",
        "## Notes:\n",
        "\n",
        "- You will need to locate and source data that reflects food security and nutrition by state broken down by men, women, children and by age groups\n",
        "\n",
        "- Your analysis should demonstrate correlations that exist between level of poverty and food insecurity, malnutrition and starvation.\n",
        "\n",
        "- Your data and analysis should also indicate what happens to the children as they mature into adults. Will they become fully functional citizens or will they require continued support?\n",
        "\n",
        "- You data visualizations need to tell the story for a political audience that you were lobbying to address the issue of food insecurity in the US\n",
        "\n"
      ],
      "metadata": {
        "id": "a7Z_tlyCaOk7"
      }
    },
    {
      "cell_type": "code",
      "execution_count": null,
      "metadata": {
        "id": "ZegKsIpcaN9R"
      },
      "outputs": [],
      "source": []
    },
    {
      "cell_type": "markdown",
      "source": [
        "# Installing Packages\n"
      ],
      "metadata": {
        "id": "co8JJlNim9Na"
      }
    },
    {
      "cell_type": "code",
      "source": [],
      "metadata": {
        "id": "O9D22cd4nLix"
      },
      "execution_count": null,
      "outputs": []
    }
  ]
}